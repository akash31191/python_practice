{
  "cells": [
    {
      "metadata": {},
      "cell_type": "markdown",
      "source": "<p style=\"font-family: Arial; font-size:3.75em;color:purple; font-style:bold\"><br>\nIntroduction to numpy:\n</p><br>\n\n<p style=\"font-family: Arial; font-size:1.25em;color:#2462C0; font-style:bold\"><br>\nPackage for scientific computing with Python\n</p><br>\n\nNumerical Python, or \"Numpy\" for short, is a foundational package on which many of the most common data science packages are built.  Numpy provides us with high performance multi-dimensional arrays which we can use as vectors or matrices.  \n\nThe key features of numpy are:\n\n- ndarrays: n-dimensional arrays of the same data type which are fast and space-efficient.  There are a number of built-in methods for ndarrays which allow for rapid processing of data without using loops (e.g., compute the mean).\n- Broadcasting: a useful tool which defines implicit behavior between multi-dimensional arrays of different sizes.\n- Vectorization: enables numeric operations on ndarrays.\n\n<b>Additional Recommended Resources:</b><br>\n<a href=\"https://docs.scipy.org/doc/numpy/reference/\">Numpy Documentation</a><br>\n\n\n"
    },
    {
      "metadata": {},
      "cell_type": "markdown",
      "source": "<p style=\"font-family: Arial; font-size:2.75em;color:purple; font-style:bold\"><br>\n\nGetting started with ndarray<br><br></p>\n\n**ndarrays** are time and space-efficient multidimensional arrays at the core of numpy.  Like the data structures, let's get started by creating ndarrays using the numpy package."
    },
    {
      "metadata": {},
      "cell_type": "markdown",
      "source": "<p style=\"font-family: Arial; font-size:1.75em;color:#2462C0; font-style:bold\"><br>\n\nHow to create Rank 1 numpy arrays:\n</p>"
    },
    {
      "metadata": {},
      "cell_type": "markdown",
      "source": "### Installing numpy package through pip and conda"
    },
    {
      "metadata": {
        "trusted": true,
        "scrolled": false
      },
      "cell_type": "code",
      "source": "!pip install numpy -y",
      "execution_count": 1,
      "outputs": [
        {
          "output_type": "stream",
          "text": "Requirement already satisfied: numpy in /home/nbuser/anaconda3_420/lib/python3.5/site-packages (1.17.3)\n\u001b[33mWARNING: You are using pip version 19.3.1; however, version 20.0.2 is available.\nYou should consider upgrading via the 'pip install --upgrade pip' command.\u001b[0m\n",
          "name": "stdout"
        }
      ]
    },
    {
      "metadata": {
        "trusted": true
      },
      "cell_type": "code",
      "source": "!pip install --upgrade pip",
      "execution_count": 2,
      "outputs": [
        {
          "output_type": "stream",
          "text": "Collecting pip\n\u001b[?25l  Downloading https://files.pythonhosted.org/packages/54/0c/d01aa759fdc501a58f431eb594a17495f15b88da142ce14b5845662c13f3/pip-20.0.2-py2.py3-none-any.whl (1.4MB)\n\u001b[K     |████████████████████████████████| 1.4MB 1.5MB/s eta 0:00:01\n\u001b[?25hInstalling collected packages: pip\n  Found existing installation: pip 19.3.1\n    Uninstalling pip-19.3.1:\n      Successfully uninstalled pip-19.3.1\nSuccessfully installed pip-20.0.2\n",
          "name": "stdout"
        }
      ]
    },
    {
      "metadata": {
        "trusted": true
      },
      "cell_type": "code",
      "source": "import numpy as np",
      "execution_count": 1,
      "outputs": []
    },
    {
      "metadata": {},
      "cell_type": "markdown",
      "source": "## Creating 1-D array"
    },
    {
      "metadata": {
        "trusted": true
      },
      "cell_type": "code",
      "source": "l = [1,2,3,4,5]\narr = np.array(l)\nprint(arr)\ntype(arr)",
      "execution_count": 8,
      "outputs": [
        {
          "output_type": "stream",
          "text": "[1 2 3 4 5]\n",
          "name": "stdout"
        },
        {
          "output_type": "execute_result",
          "execution_count": 8,
          "data": {
            "text/plain": "numpy.ndarray"
          },
          "metadata": {}
        }
      ]
    },
    {
      "metadata": {
        "trusted": true
      },
      "cell_type": "code",
      "source": "type(l)",
      "execution_count": 4,
      "outputs": [
        {
          "output_type": "execute_result",
          "execution_count": 4,
          "data": {
            "text/plain": "list"
          },
          "metadata": {}
        }
      ]
    },
    {
      "metadata": {
        "trusted": true,
        "scrolled": true
      },
      "cell_type": "code",
      "source": "# test the shape of the array we just created, it should have just one dimension (Rank 1)\nprint(arr.shape) #(5,)",
      "execution_count": 9,
      "outputs": [
        {
          "output_type": "stream",
          "text": "(5,)\n",
          "name": "stdout"
        }
      ]
    },
    {
      "metadata": {
        "trusted": true
      },
      "cell_type": "code",
      "source": "# because this is a 1-rank array, we need only one index to accesss each element\nprint(arr[0], arr[1], arr[2]) ",
      "execution_count": 5,
      "outputs": [
        {
          "output_type": "stream",
          "text": "1 2 3\n",
          "name": "stdout"
        }
      ]
    },
    {
      "metadata": {
        "trusted": true
      },
      "cell_type": "code",
      "source": "arr[0] = 8           # ndarrays are mutable, here we change an element of the array\nprint(arr)",
      "execution_count": 6,
      "outputs": [
        {
          "output_type": "stream",
          "text": "[8 2 3 4 5]\n",
          "name": "stdout"
        }
      ]
    },
    {
      "metadata": {
        "trusted": true
      },
      "cell_type": "code",
      "source": "arr1 = np.array([\"1\",2.0,1])  # np.arrays are homogeneous in nature \nprint(arr1)",
      "execution_count": 5,
      "outputs": [
        {
          "output_type": "stream",
          "text": "[1. 2. 1.]\n",
          "name": "stdout"
        }
      ]
    },
    {
      "metadata": {
        "trusted": true
      },
      "cell_type": "code",
      "source": "#int\n#float\n#string",
      "execution_count": null,
      "outputs": []
    },
    {
      "metadata": {
        "trusted": true
      },
      "cell_type": "code",
      "source": "type(arr1[1])",
      "execution_count": 4,
      "outputs": [
        {
          "output_type": "execute_result",
          "execution_count": 4,
          "data": {
            "text/plain": "numpy.str_"
          },
          "metadata": {}
        }
      ]
    },
    {
      "metadata": {},
      "cell_type": "markdown",
      "source": "<p style=\"font-family: Arial; font-size:1.75em;color:#2462C0; font-style:bold\"><br>\n\nHow to create a Rank 2 numpy array:</p>\n\nA rank 2 **ndarray** is one with two dimensions.  Notice the format below of [ [row] , [row] ].  2 dimensional arrays are great for representing matrices which are often useful in data science."
    },
    {
      "metadata": {
        "trusted": true
      },
      "cell_type": "code",
      "source": "l1 = [[1,2,3],\n      [4,5,6],\n      [7,8,3],\n     [1,2,3]]",
      "execution_count": 6,
      "outputs": []
    },
    {
      "metadata": {},
      "cell_type": "markdown",
      "source": "1 Dimension: <In 1darray how many values I have>\n2 Dimension: <number of 1darray's>, <In 1darray how many values I have>\n3 Dimension: <number of 2darray's>, <number of 1darray's>, <In 1darray how many values I have>\n4 Dimension: <number of 3darray's>, <number of 2darray's>, <number of 1darray's>, <In 1darray how many values I have>"
    },
    {
      "metadata": {
        "trusted": true
      },
      "cell_type": "code",
      "source": "a = [1,2,3]\nb = [4,5,6]\nc = [7,8,3]",
      "execution_count": 7,
      "outputs": []
    },
    {
      "metadata": {
        "trusted": true
      },
      "cell_type": "markdown",
      "source": "l1 = [[[1,2,3],[1,2,3],[1,2,3]],[a,b,c],[a,b,c]]\nprint(l1)"
    },
    {
      "metadata": {
        "trusted": true,
        "scrolled": true
      },
      "cell_type": "code",
      "source": "print(np.array(l1))",
      "execution_count": 8,
      "outputs": [
        {
          "output_type": "stream",
          "text": "[[1 2 3]\n [4 5 6]\n [7 8 3]\n [1 2 3]]\n",
          "name": "stdout"
        }
      ]
    },
    {
      "metadata": {
        "trusted": true,
        "scrolled": false
      },
      "cell_type": "code",
      "source": "arr_twod = np.array(l1)   # Create a rank 2 array\n\nprint(arr_twod)  # print the array\n\nprint(\"The shape is rows, columns: \", arr_twod.shape)  # rows x columns                   \n\nprint(\"Accessing elements [0,0], [0,1], and [1,0] of the ndarray: \", arr_twod[0, 0], \", \",arr_twod[0, 1],\", \", arr_twod[1, 0])",
      "execution_count": 10,
      "outputs": [
        {
          "output_type": "stream",
          "text": "[[1 2 3]\n [4 5 6]\n [7 8 3]\n [1 2 3]]\nThe shape is rows, columns:  (4, 3)\nAccessing elements [0,0], [0,1], and [1,0] of the ndarray:  1 ,  2 ,  4\n",
          "name": "stdout"
        }
      ]
    },
    {
      "metadata": {
        "trusted": true
      },
      "cell_type": "code",
      "source": "np.random.seed(875)",
      "execution_count": 20,
      "outputs": []
    },
    {
      "metadata": {
        "trusted": true
      },
      "cell_type": "code",
      "source": "#Random Uniform Distribution : rand(standard 0 - 1) and uniform(You can give the range)\n#Random Normal Distribution: randn(mean 0 SD 1) and normal (you can pass mean and SD)\n\n#Random Integers: randint(you can pass the range)",
      "execution_count": null,
      "outputs": []
    },
    {
      "metadata": {
        "trusted": true,
        "scrolled": false
      },
      "cell_type": "code",
      "source": "# create an array of random floats between 0 and 1\nex5 = np.random.rand(2,3,3)  # Random numbers from a uniform distribution between 0 & 1\nprint(ex5)",
      "execution_count": 34,
      "outputs": [
        {
          "output_type": "stream",
          "text": "[[[0.72716669 0.6432094  0.26488961]\n  [0.18810199 0.53129243 0.91474156]\n  [0.88117158 0.84941195 0.57976844]]\n\n [[0.71403435 0.00410734 0.19682427]\n  [0.16945771 0.75175242 0.74764778]\n  [0.20988397 0.05610339 0.68478015]]]\n",
          "name": "stdout"
        }
      ]
    },
    {
      "metadata": {
        "trusted": true
      },
      "cell_type": "code",
      "source": "a1 = np.random.uniform(1,10,(2,2,2))  # Random numbers from a uniform distribution between given range low=1, high=10\nprint(a1)",
      "execution_count": 35,
      "outputs": [
        {
          "output_type": "stream",
          "text": "[[[5.67410449 9.88274359]\n  [3.61094969 4.76798957]]\n\n [[2.76253974 6.39459481]\n  [2.78256844 1.83143543]]]\n",
          "name": "stdout"
        }
      ]
    },
    {
      "metadata": {
        "trusted": true
      },
      "cell_type": "code",
      "source": "ex6 = np.random.randn(3,3) # Random numbers from a standard normal distribution mean=0, SD=1\nprint(ex6)",
      "execution_count": 29,
      "outputs": [
        {
          "output_type": "stream",
          "text": "[[-0.53987907  0.70816002  0.84222474]\n [ 0.2035808   2.39470366  0.91745894]\n [-0.11227247 -0.36218045 -0.23218226]]\n",
          "name": "stdout"
        }
      ]
    },
    {
      "metadata": {
        "trusted": true
      },
      "cell_type": "code",
      "source": "a2 = np.random.normal(0,3,(2,2))  # Random numbers from a normal distribution between given range mean=0, SD=3\nprint(a2)",
      "execution_count": 11,
      "outputs": [
        {
          "output_type": "stream",
          "text": "[[ 3.85646337  3.96880259]\n [ 1.9585636  -0.64685467]]\n",
          "name": "stdout"
        }
      ]
    },
    {
      "metadata": {
        "trusted": true
      },
      "cell_type": "code",
      "source": "ex7 = np.random.randint(1,100,(2,2))  # generate random integers numbers in the given range\nprint(ex7)",
      "execution_count": 20,
      "outputs": [
        {
          "output_type": "stream",
          "text": "[[79 40]\n [31 52]]\n",
          "name": "stdout"
        }
      ]
    },
    {
      "metadata": {
        "trusted": true
      },
      "cell_type": "code",
      "source": "ex8 = np.random.randint(1,100,(3,3)) # generate random integers numbers in the given range for specified shape\nprint(ex8)\n",
      "execution_count": 21,
      "outputs": [
        {
          "output_type": "stream",
          "text": "[[64 49 76]\n [53  5 55]\n [57 39 79]]\n",
          "name": "stdout"
        }
      ]
    },
    {
      "metadata": {},
      "cell_type": "markdown",
      "source": "### Exercise 1 : Genearte a list of 20 random samples for a dice throw "
    },
    {
      "metadata": {
        "trusted": true
      },
      "cell_type": "code",
      "source": "dice_samples = np.random.randint(1,7,20)\nprint(dice_samples)",
      "execution_count": 39,
      "outputs": [
        {
          "output_type": "stream",
          "text": "[3 1 1 2 4 1 6 4 5 6 4 1 6 6 2 4 4 2 4 4]\n",
          "name": "stdout"
        }
      ]
    },
    {
      "metadata": {},
      "cell_type": "markdown",
      "source": "# Basics of NumPy Arrays\n\n## * Attributes of arrays\n## * Indexing of arrays\n## * Slicing of arrays\n## * Reshaping of arrays\n"
    },
    {
      "metadata": {},
      "cell_type": "markdown",
      "source": "# 1. Attributes of Arrays: \n### Determining the size, shape, data type and dimension of array"
    },
    {
      "metadata": {
        "trusted": true,
        "scrolled": false
      },
      "cell_type": "code",
      "source": "x1 = np.random.randint(10, size=6)\nx2 = np.random.randint(10, size=(3,4))\nx3 = np.random.randint(10, size=(3,4,5))",
      "execution_count": 40,
      "outputs": []
    },
    {
      "metadata": {
        "trusted": true
      },
      "cell_type": "code",
      "source": "print('X1 array is : ' ,x1)\nprint('**********')\nprint('X2 array is : ', x2)\nprint('**********')\nprint('X3 array is : ')\nprint(x3)",
      "execution_count": 41,
      "outputs": [
        {
          "output_type": "stream",
          "text": "X1 array is :  [0 8 8 9 1 6]\n**********\nX2 array is :  [[7 5 4 8]\n [5 6 0 2]\n [5 1 5 8]]\n**********\nX3 array is : \n[[[9 9 3 2 0]\n  [5 5 1 9 2]\n  [3 3 7 1 9]\n  [0 1 2 2 5]]\n\n [[6 0 3 5 0]\n  [9 9 8 4 6]\n  [9 2 1 7 4]\n  [7 9 0 7 8]]\n\n [[5 3 6 6 8]\n  [7 5 7 1 2]\n  [9 8 4 0 8]\n  [2 5 1 3 5]]]\n",
          "name": "stdout"
        }
      ]
    },
    {
      "metadata": {
        "trusted": true
      },
      "cell_type": "code",
      "source": "print(\"dimension of x1 : \", x1.ndim)\nprint(\"Shape of x1 : \", x1.shape)\nprint(\"size of x1 : \", x1.size)\nprint(\"data type of x1 : \", x1.dtype)",
      "execution_count": 26,
      "outputs": [
        {
          "output_type": "stream",
          "text": "dimension of x1 :  1\nShape of x1 :  (6,)\nsize of x1 :  6\ndata type of x1 :  int64\n",
          "name": "stdout"
        }
      ]
    },
    {
      "metadata": {
        "trusted": true
      },
      "cell_type": "code",
      "source": "print(\"dimension of x2 : \", x2.ndim)\nprint(\"Shape of x2 : \", x2.shape)\nprint(\"size of x2 : \", x2.size)\nprint(\"data type of x2 : \", x2.dtype)",
      "execution_count": 11,
      "outputs": [
        {
          "output_type": "stream",
          "text": "dimension of x2 :  2\nShape of x2 :  (3, 4)\nsize of x2 :  12\ndata type of x2 :  int64\n",
          "name": "stdout"
        }
      ]
    },
    {
      "metadata": {
        "trusted": true
      },
      "cell_type": "code",
      "source": "print(\"dimension of x3 : \", x3.ndim)\nprint(\"Shape of x3 : \", x3.shape)\nprint(\"size of x3 : \", x3.size)\nprint(\"data type of x3 : \", x3.dtype)",
      "execution_count": 10,
      "outputs": [
        {
          "output_type": "stream",
          "text": "dimension of x3 :  3\nShape of x3 :  (3, 4, 5)\nsize of x3 :  60\ndata type of x3 :  int64\n",
          "name": "stdout"
        }
      ]
    },
    {
      "metadata": {},
      "cell_type": "markdown",
      "source": "<p style=\"font-family: Arial; font-size:2.75em;color:purple; font-style:bold\"><br>\n\nArray Indexing\n<br><br></p>"
    },
    {
      "metadata": {
        "trusted": true
      },
      "cell_type": "code",
      "source": "P = np.array([[11,12,15,15], [21,22,47,17], [18,45,68,98]], dtype='int32')\nprint(P)\nP.shape",
      "execution_count": 52,
      "outputs": [
        {
          "output_type": "stream",
          "text": "[[11 12 15 15]\n [21 22 47 17]\n [18 45 68 98]]\n",
          "name": "stdout"
        },
        {
          "output_type": "execute_result",
          "execution_count": 52,
          "data": {
            "text/plain": "(3, 4)"
          },
          "metadata": {}
        }
      ]
    },
    {
      "metadata": {},
      "cell_type": "markdown",
      "source": "<p style=\"font-family: Arial; font-size:1.75em;color:#2462C0; font-style:bold\"><br>\nNormal indexing:\n</p>\n\nWe can use rows and cols index values to retrieve any element. "
    },
    {
      "metadata": {
        "trusted": true
      },
      "cell_type": "code",
      "source": "P[1,2]",
      "execution_count": 18,
      "outputs": [
        {
          "output_type": "execute_result",
          "execution_count": 18,
          "data": {
            "text/plain": "47"
          },
          "metadata": {}
        }
      ]
    },
    {
      "metadata": {
        "trusted": true
      },
      "cell_type": "code",
      "source": "print(x3)",
      "execution_count": 22,
      "outputs": [
        {
          "output_type": "stream",
          "text": "[[[7 8 9 8 4]\n  [0 5 3 7 5]\n  [1 1 3 1 7]\n  [9 6 1 9 7]]\n\n [[9 1 0 8 6]\n  [1 5 1 8 1]\n  [2 3 3 8 7]\n  [2 5 7 0 8]]\n\n [[1 1 0 3 7]\n  [1 9 5 3 3]\n  [1 5 2 1 6]\n  [5 6 8 4 5]]]\n",
          "name": "stdout"
        }
      ]
    },
    {
      "metadata": {
        "trusted": true
      },
      "cell_type": "code",
      "source": "x3[1,0,0]",
      "execution_count": 25,
      "outputs": [
        {
          "output_type": "execute_result",
          "execution_count": 25,
          "data": {
            "text/plain": "9"
          },
          "metadata": {}
        }
      ]
    },
    {
      "metadata": {
        "trusted": true
      },
      "cell_type": "code",
      "source": "P[1,2] = 50  # Normal indexing fetching an element present at the location 2,2",
      "execution_count": 53,
      "outputs": []
    },
    {
      "metadata": {
        "trusted": true
      },
      "cell_type": "code",
      "source": "P",
      "execution_count": 54,
      "outputs": [
        {
          "output_type": "execute_result",
          "execution_count": 54,
          "data": {
            "text/plain": "array([[11, 12, 15, 15],\n       [21, 22, 50, 17],\n       [18, 45, 68, 98]], dtype=int32)"
          },
          "metadata": {}
        }
      ]
    },
    {
      "metadata": {},
      "cell_type": "markdown",
      "source": "<p style=\"font-family: Arial; font-size:1.75em;color:#2462C0; font-style:bold\"><br>\nSlice indexing:\n</p>\n\nSimilar to the use of slice indexing with lists and strings, we can use slice indexing to pull out sub-regions of ndarrays."
    },
    {
      "metadata": {},
      "cell_type": "markdown",
      "source": "Use array slicing to get a subarray consisting of the first 2 rows x 2 columns."
    },
    {
      "metadata": {
        "trusted": true
      },
      "cell_type": "code",
      "source": "print(P)",
      "execution_count": 55,
      "outputs": [
        {
          "output_type": "stream",
          "text": "[[11 12 15 15]\n [21 22 50 17]\n [18 45 68 98]]\n",
          "name": "stdout"
        }
      ]
    },
    {
      "metadata": {
        "trusted": true,
        "scrolled": true
      },
      "cell_type": "code",
      "source": "p_slice = P[0:2,1:3].copy()\nprint(p_slice)\nprint(p_slice.shape)",
      "execution_count": 56,
      "outputs": [
        {
          "output_type": "stream",
          "text": "[[12 15]\n [22 50]]\n(2, 2)\n",
          "name": "stdout"
        }
      ]
    },
    {
      "metadata": {
        "trusted": true
      },
      "cell_type": "code",
      "source": "print(p_slice[0,0],p_slice[1,1])",
      "execution_count": 48,
      "outputs": [
        {
          "output_type": "stream",
          "text": "12 50\n",
          "name": "stdout"
        }
      ]
    },
    {
      "metadata": {
        "trusted": true
      },
      "cell_type": "code",
      "source": "p_slice[0,0] = 24\np_slice",
      "execution_count": 57,
      "outputs": [
        {
          "output_type": "execute_result",
          "execution_count": 57,
          "data": {
            "text/plain": "array([[24, 15],\n       [22, 50]], dtype=int32)"
          },
          "metadata": {}
        }
      ]
    },
    {
      "metadata": {
        "trusted": true,
        "scrolled": true
      },
      "cell_type": "code",
      "source": "P",
      "execution_count": 58,
      "outputs": [
        {
          "output_type": "execute_result",
          "execution_count": 58,
          "data": {
            "text/plain": "array([[11, 12, 15, 15],\n       [21, 22, 50, 17],\n       [18, 45, 68, 98]], dtype=int32)"
          },
          "metadata": {}
        }
      ]
    },
    {
      "metadata": {
        "scrolled": true,
        "trusted": true
      },
      "cell_type": "code",
      "source": "a_slice = P[0:1].copy()   # Creates a explicit copy\na_slice[0,0]=1000\nprint(P)\nprint(a_slice)",
      "execution_count": 39,
      "outputs": [
        {
          "output_type": "stream",
          "text": "[[11 12 60 15]\n [21 22 47 17]\n [18 45 68 98]]\n\n[[1000   12   60   15]]\n",
          "name": "stdout"
        }
      ]
    },
    {
      "metadata": {},
      "cell_type": "markdown",
      "source": "<p style=\"font-family: Arial; font-size:1.75em;color:#2462C0; font-style:bold\"><br>\n\nUse both normal indexing & slice indexing\n</p>\n\nWe can use combinations of integer scalar and slice indexing to create different shaped matrices."
    },
    {
      "metadata": {
        "trusted": true
      },
      "cell_type": "code",
      "source": "# Create a Rank 2 array of shape (3, 4)\nan_array = np.array([[11,12,13,14], [21,22,23,24], [31,32,33,34]])\nprint(an_array)",
      "execution_count": 59,
      "outputs": [
        {
          "output_type": "stream",
          "text": "[[11 12 13 14]\n [21 22 23 24]\n [31 32 33 34]]\n",
          "name": "stdout"
        }
      ]
    },
    {
      "metadata": {
        "trusted": true
      },
      "cell_type": "code",
      "source": "# Using both integer scalar & slicing generates an array of lower rank\nrow_rank1 = an_array[1,:]    # Rank 1 view \nprint(row_rank1, row_rank1.shape)  # notice only a single []",
      "execution_count": 36,
      "outputs": [
        {
          "output_type": "stream",
          "text": "[21 22 23 24] (4,)\n",
          "name": "stdout"
        }
      ]
    },
    {
      "metadata": {
        "trusted": true
      },
      "cell_type": "code",
      "source": "# Slicing alone: generates an array of the same rank as the an_array\nrow_rank2 = an_array[1:2,:]  # Rank 2 view \nprint(row_rank2, row_rank2.shape)   # Notice the [[ ]]",
      "execution_count": 43,
      "outputs": [
        {
          "output_type": "stream",
          "text": "[[21 22 23 24]] (1, 4)\n",
          "name": "stdout"
        }
      ]
    },
    {
      "metadata": {
        "trusted": true
      },
      "cell_type": "code",
      "source": "#We can do the same thing for columns of an array:\n\nprint()\ncol_rank1 = an_array[:, 1]\ncol_rank2 = an_array[:, 1:2]\n\nprint(col_rank1, col_rank1.shape)  # Rank 1\nprint()\nprint(col_rank2, col_rank2.shape)  # Rank 2\n",
      "execution_count": 46,
      "outputs": [
        {
          "output_type": "stream",
          "text": "\n[12 22 32] (3,)\n\n[[12]\n [22]\n [32]] (3, 1)\n",
          "name": "stdout"
        }
      ]
    },
    {
      "metadata": {},
      "cell_type": "markdown",
      "source": "<p style=\"font-family: Arial; font-size:1.75em;color:#2462C0; font-style:bold\"><br>\nInteger indexing:\n</p>\n\nThis mechanism helps in selecting any arbitrary item in an array based on its N-dimensional index.\nEach integer array represents the number of indexes into that dimension. \nIt is like simple indexing but we pass arrays of indices in place of single scalars. \nThis allows us to very quickly access and modify complicated subsets of an array's values. \n"
    },
    {
      "metadata": {
        "trusted": true,
        "scrolled": false
      },
      "cell_type": "code",
      "source": "x = np.array([[1,2,3], [4,5,6], [7,8,9]]) \nprint(x)",
      "execution_count": 60,
      "outputs": [
        {
          "output_type": "stream",
          "text": "[[1 2 3]\n [4 5 6]\n [7 8 9]]\n",
          "name": "stdout"
        }
      ]
    },
    {
      "metadata": {
        "trusted": true,
        "scrolled": false
      },
      "cell_type": "code",
      "source": "print(x[0,0], x[2,0], x[1,1]) #list of row = [0,1,2] , list of column=[0,0,1]",
      "execution_count": 61,
      "outputs": [
        {
          "output_type": "stream",
          "text": "1 7 5\n",
          "name": "stdout"
        }
      ]
    },
    {
      "metadata": {
        "trusted": true
      },
      "cell_type": "code",
      "source": "rows = [0,2,1]\ncolumn = [0,0,1]",
      "execution_count": 62,
      "outputs": []
    },
    {
      "metadata": {
        "trusted": true,
        "scrolled": true
      },
      "cell_type": "code",
      "source": "x[rows,column]",
      "execution_count": 65,
      "outputs": [
        {
          "output_type": "execute_result",
          "execution_count": 65,
          "data": {
            "text/plain": "array([1, 7, 5])"
          },
          "metadata": {}
        }
      ]
    },
    {
      "metadata": {
        "trusted": true
      },
      "cell_type": "code",
      "source": "y = x[rows, column]         # selects the elements at (0,0), (1,1) and (2,0) \nprint(y)",
      "execution_count": 67,
      "outputs": [
        {
          "output_type": "stream",
          "text": "[1 7 5]\n",
          "name": "stdout"
        }
      ]
    },
    {
      "metadata": {
        "trusted": true
      },
      "cell_type": "code",
      "source": "y[1] = 10",
      "execution_count": 68,
      "outputs": []
    },
    {
      "metadata": {
        "trusted": true
      },
      "cell_type": "code",
      "source": "y",
      "execution_count": 69,
      "outputs": [
        {
          "output_type": "execute_result",
          "execution_count": 69,
          "data": {
            "text/plain": "array([ 1, 10,  5])"
          },
          "metadata": {}
        }
      ]
    },
    {
      "metadata": {
        "trusted": true
      },
      "cell_type": "code",
      "source": "x",
      "execution_count": 70,
      "outputs": [
        {
          "output_type": "execute_result",
          "execution_count": 70,
          "data": {
            "text/plain": "array([[1, 2, 3],\n       [4, 5, 6],\n       [7, 8, 9]])"
          },
          "metadata": {}
        }
      ]
    },
    {
      "metadata": {
        "trusted": true,
        "scrolled": true
      },
      "cell_type": "code",
      "source": "x3",
      "execution_count": 72,
      "outputs": [
        {
          "output_type": "execute_result",
          "execution_count": 72,
          "data": {
            "text/plain": "array([[[9, 9, 3, 2, 0],\n        [5, 5, 1, 9, 2],\n        [3, 3, 7, 1, 9],\n        [0, 1, 2, 2, 5]],\n\n       [[6, 0, 3, 5, 0],\n        [9, 9, 8, 4, 6],\n        [9, 2, 1, 7, 4],\n        [7, 9, 0, 7, 8]],\n\n       [[5, 3, 6, 6, 8],\n        [7, 5, 7, 1, 2],\n        [9, 8, 4, 0, 8],\n        [2, 5, 1, 3, 5]]])"
          },
          "metadata": {}
        }
      ]
    },
    {
      "metadata": {
        "trusted": true
      },
      "cell_type": "code",
      "source": "print(x3[0,0,0], x3[1,0,0], x3[2,0,0])",
      "execution_count": 71,
      "outputs": [
        {
          "output_type": "stream",
          "text": "9 6 5\n",
          "name": "stdout"
        }
      ]
    },
    {
      "metadata": {
        "trusted": true
      },
      "cell_type": "code",
      "source": "a = [0,1,2]\nb = [0,0,0]\nc = [0,0,0]",
      "execution_count": 73,
      "outputs": []
    },
    {
      "metadata": {
        "trusted": true
      },
      "cell_type": "code",
      "source": "x3[a,b,c]",
      "execution_count": 74,
      "outputs": [
        {
          "output_type": "execute_result",
          "execution_count": 74,
          "data": {
            "text/plain": "array([9, 6, 5])"
          },
          "metadata": {}
        }
      ]
    },
    {
      "metadata": {},
      "cell_type": "markdown",
      "source": "### Exercise 2: Create a 3x3 array and write statements to retrieve its corner elements. "
    },
    {
      "metadata": {
        "trusted": true,
        "scrolled": true
      },
      "cell_type": "code",
      "source": "x = np.array([[1,2,3], [4,5,6], [7,8,9]]) \nx",
      "execution_count": 76,
      "outputs": [
        {
          "output_type": "execute_result",
          "execution_count": 76,
          "data": {
            "text/plain": "array([[1, 2, 3],\n       [4, 5, 6],\n       [7, 8, 9]])"
          },
          "metadata": {}
        }
      ]
    },
    {
      "metadata": {
        "trusted": true,
        "scrolled": true
      },
      "cell_type": "code",
      "source": "x[0,0],x[0,2],x[2,0],x[2,2]",
      "execution_count": 77,
      "outputs": [
        {
          "output_type": "execute_result",
          "execution_count": 77,
          "data": {
            "text/plain": "(1, 3, 7, 9)"
          },
          "metadata": {}
        }
      ]
    },
    {
      "metadata": {
        "trusted": true
      },
      "cell_type": "code",
      "source": "r = [0,0,2,2] \nc = [0,2,0,2] \na = x[r,c]\nprint(a)",
      "execution_count": 78,
      "outputs": [
        {
          "output_type": "stream",
          "text": "[1 3 7 9]\n",
          "name": "stdout"
        }
      ]
    },
    {
      "metadata": {
        "trusted": true
      },
      "cell_type": "code",
      "source": "rows = np.array([[0,0],[2,2]])\nprint(rows)\nprint('-----------')\ncols = np.array([[0,2],[0,2]]) \nprint(cols)\nprint('-----------')\ny = x[rows,cols] \nprint(y)                # prints the corner elements of the array. (0,0), (3,0) (0,2) and (3,2)",
      "execution_count": 82,
      "outputs": [
        {
          "output_type": "stream",
          "text": "[[0 0]\n [2 2]]\n-----------\n[[0 2]\n [0 2]]\n-----------\n[[1 3]\n [7 9]]\n",
          "name": "stdout"
        }
      ]
    },
    {
      "metadata": {},
      "cell_type": "markdown",
      "source": "<p style=\"font-family: Arial; font-size:2.75em;color:purple; font-style:bold\"><br>\nBoolean Indexing\n\n<br><br></p>\n<p style=\"font-family: Arial; font-size:1.75em;color:#2462C0; font-style:bold\"><br>\n\nArray Indexing for changing elements:\n</p>"
    },
    {
      "metadata": {
        "trusted": true
      },
      "cell_type": "code",
      "source": "import numpy as np",
      "execution_count": 1,
      "outputs": []
    },
    {
      "metadata": {
        "trusted": true,
        "scrolled": true
      },
      "cell_type": "code",
      "source": "# create a 3x2 array\nan_array = np.array([[11,12], [21, 22], [31, 32]])\nprint(an_array)",
      "execution_count": 2,
      "outputs": [
        {
          "output_type": "stream",
          "text": "[[11 12]\n [21 22]\n [31 32]]\n",
          "name": "stdout"
        }
      ]
    },
    {
      "metadata": {
        "trusted": true
      },
      "cell_type": "code",
      "source": "# create a filter which will be boolean values for whether each element meets this condition\nfilter1 = an_array < 15\nfilter1",
      "execution_count": 3,
      "outputs": [
        {
          "output_type": "execute_result",
          "execution_count": 3,
          "data": {
            "text/plain": "array([[ True,  True],\n       [False, False],\n       [False, False]])"
          },
          "metadata": {}
        }
      ]
    },
    {
      "metadata": {},
      "cell_type": "markdown",
      "source": "Notice that the filter is a same size ndarray as an_array which is filled with True for each element whose corresponding element in an_array which is greater than 15 and False for those elements whose value is less than 15."
    },
    {
      "metadata": {
        "trusted": true
      },
      "cell_type": "code",
      "source": "# we can now select just those elements which meet that criteria\nresult=an_array[an_array < 15]\nresult",
      "execution_count": 6,
      "outputs": [
        {
          "output_type": "execute_result",
          "execution_count": 6,
          "data": {
            "text/plain": "array([11, 12])"
          },
          "metadata": {}
        }
      ]
    },
    {
      "metadata": {
        "trusted": true
      },
      "cell_type": "code",
      "source": "result[0]",
      "execution_count": 7,
      "outputs": [
        {
          "output_type": "execute_result",
          "execution_count": 7,
          "data": {
            "text/plain": "11"
          },
          "metadata": {}
        }
      ]
    },
    {
      "metadata": {
        "trusted": true
      },
      "cell_type": "code",
      "source": "result[0] = 100",
      "execution_count": 8,
      "outputs": []
    },
    {
      "metadata": {
        "trusted": true
      },
      "cell_type": "code",
      "source": "result",
      "execution_count": 9,
      "outputs": [
        {
          "output_type": "execute_result",
          "execution_count": 9,
          "data": {
            "text/plain": "array([100,  12])"
          },
          "metadata": {}
        }
      ]
    },
    {
      "metadata": {
        "trusted": true
      },
      "cell_type": "code",
      "source": "an_array",
      "execution_count": 10,
      "outputs": [
        {
          "output_type": "execute_result",
          "execution_count": 10,
          "data": {
            "text/plain": "array([[11, 12],\n       [21, 22],\n       [31, 32]])"
          },
          "metadata": {}
        }
      ]
    },
    {
      "metadata": {
        "trusted": true
      },
      "cell_type": "code",
      "source": "# Filter values which are more than 20 and less than 30\nres = (an_array>20) & (an_array<30)\nprint(res)",
      "execution_count": 11,
      "outputs": [
        {
          "output_type": "stream",
          "text": "[[False False]\n [ True  True]\n [False False]]\n",
          "name": "stdout"
        }
      ]
    },
    {
      "metadata": {
        "trusted": true
      },
      "cell_type": "code",
      "source": "a_slice = an_array[res]\nprint(a_slice)",
      "execution_count": 12,
      "outputs": [
        {
          "output_type": "stream",
          "text": "[21 22]\n",
          "name": "stdout"
        }
      ]
    },
    {
      "metadata": {},
      "cell_type": "markdown",
      "source": "<p style=\"font-family: Arial; font-size:2.75em;color:purple; font-style:bold\">\nArray Operations\n<br>"
    },
    {
      "metadata": {},
      "cell_type": "markdown",
      "source": "<p style=\"font-family: Arial; font-size:1.75em;color:#2462C0; font-style:bold\">\nArithmetic Array Operations:\n\n</p>"
    },
    {
      "metadata": {
        "trusted": true
      },
      "cell_type": "code",
      "source": "import numpy as np",
      "execution_count": 13,
      "outputs": []
    },
    {
      "metadata": {
        "trusted": true
      },
      "cell_type": "code",
      "source": "x = np.array([[1,2],[3,4]], dtype=np.int)\ny = np.array([[1.0,2.0],[3.0,4.0]], dtype=np.float64)\nprint(x)\nprint()\nprint(y)",
      "execution_count": 14,
      "outputs": [
        {
          "output_type": "stream",
          "text": "[[1 2]\n [3 4]]\n\n[[1. 2.]\n [3. 4.]]\n",
          "name": "stdout"
        }
      ]
    },
    {
      "metadata": {
        "trusted": true
      },
      "cell_type": "code",
      "source": "print('Addition : ')\nprint(x+y)\nprint('Subtraction : ')\nprint(x-y)\nprint('Multiplication : ')\nprint(x*y)\nprint('Division : ')\nprint(x/y)",
      "execution_count": 14,
      "outputs": [
        {
          "output_type": "stream",
          "text": "Addition : \n[[2. 4.]\n [6. 8.]]\nSubtraction : \n[[0. 0.]\n [0. 0.]]\nMultiplication : \n[[ 1.  4.]\n [ 9. 16.]]\nDivision : \n[[1. 1.]\n [1. 1.]]\n",
          "name": "stdout"
        }
      ]
    },
    {
      "metadata": {
        "trusted": true
      },
      "cell_type": "code",
      "source": "print(np.add(x,y))           # vectorized methods \nprint(np.subtract(x,y))\nprint(np.multiply(x,y))\nprint(np.divide(x,y))",
      "execution_count": 15,
      "outputs": [
        {
          "output_type": "stream",
          "text": "[[2. 4.]\n [6. 8.]]\n[[0. 0.]\n [0. 0.]]\n[[ 1.  4.]\n [ 9. 16.]]\n[[1. 1.]\n [1. 1.]]\n",
          "name": "stdout"
        }
      ]
    },
    {
      "metadata": {},
      "cell_type": "markdown",
      "source": "<p style=\"font-family: Arial; font-size:1.75em;color:#2462C0; font-style:bold\">\nElement-wise Functions: </p>\n\nFor example, let's compare two arrays values to get the maximum of each."
    },
    {
      "metadata": {
        "trusted": true
      },
      "cell_type": "code",
      "source": "# random array\nx = np.random.randint(1,8,5)\nx",
      "execution_count": 16,
      "outputs": [
        {
          "output_type": "execute_result",
          "execution_count": 16,
          "data": {
            "text/plain": "array([1, 1, 6, 7, 1])"
          },
          "metadata": {}
        }
      ]
    },
    {
      "metadata": {
        "trusted": true
      },
      "cell_type": "code",
      "source": "# another random array\ny = np.random.randint(1,8,5)\ny",
      "execution_count": 17,
      "outputs": [
        {
          "output_type": "execute_result",
          "execution_count": 17,
          "data": {
            "text/plain": "array([7, 2, 5, 3, 4])"
          },
          "metadata": {}
        }
      ]
    },
    {
      "metadata": {
        "trusted": true
      },
      "cell_type": "code",
      "source": "# returns element wise maximum between two arrays\nprint(np.maximum(x,y))\nprint(np.minimum(x,y))\nprint(np.equal(x,y))",
      "execution_count": 18,
      "outputs": [
        {
          "output_type": "stream",
          "text": "[7 2 6 7 4]\n[1 1 5 3 1]\n[False False False False False]\n",
          "name": "stdout"
        }
      ]
    },
    {
      "metadata": {},
      "cell_type": "markdown",
      "source": "<p style=\"font-family: Arial; font-size:2.75em;color:purple; font-style:bold\">\nStatistical Methods\n<br>"
    },
    {
      "metadata": {},
      "cell_type": "markdown",
      "source": "<p style=\"font-family: Arial; font-size:1.75em;color:#2462C0; font-style:bold\">\nBasic Statistical Operations:\n</p>"
    },
    {
      "metadata": {
        "scrolled": true,
        "trusted": true
      },
      "cell_type": "code",
      "source": "# setup a random 2 x 5 matrix\narr = np.random.randint(1,10,(2,5))\nprint(arr)\narr.shape",
      "execution_count": 19,
      "outputs": [
        {
          "output_type": "stream",
          "text": "[[8 2 6 4 3]\n [3 3 6 7 4]]\n",
          "name": "stdout"
        },
        {
          "output_type": "execute_result",
          "execution_count": 19,
          "data": {
            "text/plain": "(2, 5)"
          },
          "metadata": {}
        }
      ]
    },
    {
      "metadata": {
        "trusted": true
      },
      "cell_type": "code",
      "source": "# compute the mean for all elements\nprint(arr.mean())",
      "execution_count": 20,
      "outputs": [
        {
          "output_type": "stream",
          "text": "4.6\n",
          "name": "stdout"
        }
      ]
    },
    {
      "metadata": {
        "trusted": true
      },
      "cell_type": "code",
      "source": "# compute the means by row\nprint(arr.mean(axis=1)) # axis 1 row selection , axis 0 column selection",
      "execution_count": 21,
      "outputs": [
        {
          "output_type": "stream",
          "text": "[4.6 4.6]\n",
          "name": "stdout"
        }
      ]
    },
    {
      "metadata": {
        "trusted": true
      },
      "cell_type": "code",
      "source": "# compute the means by column\nprint(arr.mean(axis=0))",
      "execution_count": 22,
      "outputs": [
        {
          "output_type": "stream",
          "text": "[5.5 2.5 6.  5.5 3.5]\n",
          "name": "stdout"
        }
      ]
    },
    {
      "metadata": {
        "trusted": true
      },
      "cell_type": "code",
      "source": "# sum all the elements\nprint(arr.sum())   # sum of all elements\nprint('columns sum is : ', arr.sum(axis=0))    # colsum\nprint('row sum is : ', arr.sum(axis=1))    # row sum",
      "execution_count": 23,
      "outputs": [
        {
          "output_type": "stream",
          "text": "46\ncolumns sum is :  [11  5 12 11  7]\nrow sum is :  [23 23]\n",
          "name": "stdout"
        }
      ]
    },
    {
      "metadata": {},
      "cell_type": "markdown",
      "source": "<p style=\"font-family: Arial; font-size:1.75em;color:#2462C0; font-style:bold\">\nFinding Unique elements:\n</p>"
    },
    {
      "metadata": {
        "trusted": true
      },
      "cell_type": "code",
      "source": "array = np.array([1,2,1,4,2,1,4,2,3])\nprint(array)",
      "execution_count": 19,
      "outputs": [
        {
          "output_type": "stream",
          "text": "[1 2 1 4 2 1 4 2 3]\n",
          "name": "stdout"
        }
      ]
    },
    {
      "metadata": {
        "trusted": true
      },
      "cell_type": "code",
      "source": "print(np.unique(array, return_counts=True))",
      "execution_count": 20,
      "outputs": [
        {
          "output_type": "stream",
          "text": "(array([1, 2, 3, 4]), array([3, 3, 1, 2]))\n",
          "name": "stdout"
        }
      ]
    },
    {
      "metadata": {},
      "cell_type": "markdown",
      "source": "<p style=\"font-family: Arial; font-size:2.75em;color:purple; font-style:bold\">\nBroadcasting:\n<br>"
    },
    {
      "metadata": {},
      "cell_type": "markdown",
      "source": "Introduction to broadcasting. <br>\nFor more details, please see: <br>\nhttps://docs.scipy.org/doc/numpy-1.10.1/user/basics.broadcasting.html\n\nBroadcasting in NumPy follows a strict set of rules to determine the interaction between the two arrays:\n\nRule 1: If the two arrays differ in their number of dimensions, the shape of the one with fewer dimensions is padded with ones on its leading (left) side. <br>\n\nRule 2: If the shape of the two arrays does not match in any dimension, the array with shape equal to 1 in that dimension is stretched to match the other shape. <br>\n\nRule 3: If in any dimension the sizes disagree and neither is equal to 1, an error is raised."
    },
    {
      "metadata": {
        "trusted": true
      },
      "cell_type": "code",
      "source": "import numpy as np",
      "execution_count": 2,
      "outputs": []
    },
    {
      "metadata": {
        "trusted": true
      },
      "cell_type": "markdown",
      "source": "3d: (2, 3, 3) 2d: (2, 3)\n\n2 * 2 * 3 #3d array\n1 * 2 * 3 #2d array: padded 1 on left side its not a 3d array\n\nOperation output: 2 * 2 * 3\n    \n#possibilities of 2d array shape: #*2*3 : 2*1 , 2*3, 1*3, 1*1"
    },
    {
      "metadata": {
        "trusted": true
      },
      "cell_type": "code",
      "source": "a1 = np.array([[[1,2,3],[4,5,6]],[[1,2,3],[4,5,6]]])\na1",
      "execution_count": 21,
      "outputs": [
        {
          "output_type": "execute_result",
          "execution_count": 21,
          "data": {
            "text/plain": "array([[[1, 2, 3],\n        [4, 5, 6]],\n\n       [[1, 2, 3],\n        [4, 5, 6]]])"
          },
          "metadata": {}
        }
      ]
    },
    {
      "metadata": {
        "trusted": true
      },
      "cell_type": "code",
      "source": "print('shape of a1 : ',a1.shape)\nprint('dimension of a1 : ', a1.ndim)",
      "execution_count": 22,
      "outputs": [
        {
          "output_type": "stream",
          "text": "shape of a1 :  (2, 2, 3)\ndimension of a1 :  3\n",
          "name": "stdout"
        }
      ]
    },
    {
      "metadata": {
        "trusted": true,
        "scrolled": true
      },
      "cell_type": "code",
      "source": "#2*1, 2*3, 1*3, 1*1\na2 = np.array([[10]])\nprint('shape of a2:',a2.shape)\nprint('dimension of a2:', a2.ndim)\nprint('array a2:', a2)",
      "execution_count": 35,
      "outputs": [
        {
          "output_type": "stream",
          "text": "shape of a2: (1, 1)\ndimension of a2: 2\narray a2: [[10]]\n",
          "name": "stdout"
        }
      ]
    },
    {
      "metadata": {
        "trusted": true,
        "scrolled": true
      },
      "cell_type": "code",
      "source": "a3 = a1+a2\nprint(a3)",
      "execution_count": 36,
      "outputs": [
        {
          "output_type": "stream",
          "text": "[[[11 12 13]\n  [14 15 16]]\n\n [[11 12 13]\n  [14 15 16]]]\n",
          "name": "stdout"
        }
      ]
    },
    {
      "metadata": {
        "trusted": true
      },
      "cell_type": "code",
      "source": "a3.shape",
      "execution_count": 60,
      "outputs": [
        {
          "output_type": "execute_result",
          "execution_count": 60,
          "data": {
            "text/plain": "(2, 2, 3)"
          },
          "metadata": {}
        }
      ]
    },
    {
      "metadata": {},
      "cell_type": "markdown",
      "source": "2d Array with 1d: <br>\n(2, 3) + (3,) = True <br>\n(2, 3) + (1,) = True"
    },
    {
      "metadata": {},
      "cell_type": "markdown",
      "source": "3d Array with 2d: <br>\n(2,2,3) + (2,3) = True <br>\n(2,2,3) + (2,1) = True <br>\n(2,2,3) + (1,3) = True <br>\n(2,2,3) + (1,1) = True <br>"
    },
    {
      "metadata": {
        "trusted": true
      },
      "cell_type": "code",
      "source": "start = np.zeros((4,3))\nprint(start) #4*3",
      "execution_count": 14,
      "outputs": [
        {
          "output_type": "stream",
          "text": "[[0. 0. 0.]\n [0. 0. 0.]\n [0. 0. 0.]\n [0. 0. 0.]]\n",
          "name": "stdout"
        }
      ]
    },
    {
      "metadata": {
        "trusted": true
      },
      "cell_type": "code",
      "source": "add_cols = np.array([[1],[2],[3],[4]])\nadd_cols #4*1",
      "execution_count": 17,
      "outputs": [
        {
          "output_type": "execute_result",
          "execution_count": 17,
          "data": {
            "text/plain": "array([[1],\n       [2],\n       [3],\n       [4]])"
          },
          "metadata": {}
        }
      ]
    },
    {
      "metadata": {
        "trusted": true
      },
      "cell_type": "code",
      "source": "start+add_cols",
      "execution_count": 18,
      "outputs": [
        {
          "output_type": "execute_result",
          "execution_count": 18,
          "data": {
            "text/plain": "array([[1., 1., 1.],\n       [2., 2., 2.],\n       [3., 3., 3.],\n       [4., 4., 4.]])"
          },
          "metadata": {}
        }
      ]
    },
    {
      "metadata": {
        "trusted": true
      },
      "cell_type": "code",
      "source": "# this will just broadcast in both dimensions\nadd_scalar = np.array([5])\nprint(add_scalar)",
      "execution_count": 72,
      "outputs": [
        {
          "output_type": "stream",
          "text": "[5]\n",
          "name": "stdout"
        }
      ]
    },
    {
      "metadata": {
        "trusted": true
      },
      "cell_type": "code",
      "source": "print(start+add_scalar)",
      "execution_count": 73,
      "outputs": [
        {
          "output_type": "stream",
          "text": "[[5. 5. 5.]\n [5. 5. 5.]\n [5. 5. 5.]\n [5. 5. 5.]]\n",
          "name": "stdout"
        }
      ]
    },
    {
      "metadata": {
        "trusted": true
      },
      "cell_type": "code",
      "source": "arr = np.ones((3,2))\nprint(arr.shape)\nprint(arr) #3*2",
      "execution_count": 87,
      "outputs": [
        {
          "output_type": "stream",
          "text": "(3, 2)\n[[1. 1.]\n [1. 1.]\n [1. 1.]]\n",
          "name": "stdout"
        }
      ]
    },
    {
      "metadata": {
        "trusted": true
      },
      "cell_type": "code",
      "source": "arr2 = np.arange(5,10,2)#start, stop, interval\nprint(arr2.shape)\nprint(arr2) #3",
      "execution_count": 93,
      "outputs": [
        {
          "output_type": "stream",
          "text": "(3,)\n[5 7 9]\n",
          "name": "stdout"
        }
      ]
    },
    {
      "metadata": {
        "trusted": true
      },
      "cell_type": "code",
      "source": "print(arr+arr2)",
      "execution_count": 94,
      "outputs": [
        {
          "output_type": "error",
          "ename": "ValueError",
          "evalue": "operands could not be broadcast together with shapes (3,2) (3,) ",
          "traceback": [
            "\u001b[0;31m---------------------------------------------------------------------------\u001b[0m",
            "\u001b[0;31mValueError\u001b[0m                                Traceback (most recent call last)",
            "\u001b[0;32m<ipython-input-94-ed61b1480d31>\u001b[0m in \u001b[0;36m<module>\u001b[0;34m()\u001b[0m\n\u001b[0;32m----> 1\u001b[0;31m \u001b[0mprint\u001b[0m\u001b[0;34m(\u001b[0m\u001b[0marr\u001b[0m\u001b[0;34m+\u001b[0m\u001b[0marr2\u001b[0m\u001b[0;34m)\u001b[0m\u001b[0;34m\u001b[0m\u001b[0m\n\u001b[0m",
            "\u001b[0;31mValueError\u001b[0m: operands could not be broadcast together with shapes (3,2) (3,) "
          ]
        }
      ]
    },
    {
      "metadata": {},
      "cell_type": "markdown",
      "source": "<p style=\"font-family: Arial; font-size:1.75em;color:#2462C0; font-style:bold\">\nReshaping array:\n</p>"
    },
    {
      "metadata": {
        "trusted": true
      },
      "cell_type": "code",
      "source": "import numpy as np",
      "execution_count": 2,
      "outputs": []
    },
    {
      "metadata": {
        "trusted": true
      },
      "cell_type": "code",
      "source": "# grab values from 0 through 19 in an array\narr = np.arange(20)\nprint(arr)",
      "execution_count": 3,
      "outputs": [
        {
          "output_type": "stream",
          "text": "[ 0  1  2  3  4  5  6  7  8  9 10 11 12 13 14 15 16 17 18 19]\n",
          "name": "stdout"
        }
      ]
    },
    {
      "metadata": {
        "trusted": true
      },
      "cell_type": "code",
      "source": "arr.shape",
      "execution_count": 4,
      "outputs": [
        {
          "output_type": "execute_result",
          "execution_count": 4,
          "data": {
            "text/plain": "(20,)"
          },
          "metadata": {}
        }
      ]
    },
    {
      "metadata": {
        "trusted": true
      },
      "cell_type": "code",
      "source": "# reshape to be a 4 x 5 matrix\nnew_arr = arr.reshape(2,2,5)\nnew_arr",
      "execution_count": 7,
      "outputs": [
        {
          "output_type": "execute_result",
          "execution_count": 7,
          "data": {
            "text/plain": "array([[[ 0,  1,  2,  3,  4],\n        [ 5,  6,  7,  8,  9]],\n\n       [[10, 11, 12, 13, 14],\n        [15, 16, 17, 18, 19]]])"
          },
          "metadata": {}
        }
      ]
    },
    {
      "metadata": {
        "trusted": true
      },
      "cell_type": "code",
      "source": "new_arr.flatten()",
      "execution_count": 8,
      "outputs": [
        {
          "output_type": "execute_result",
          "execution_count": 8,
          "data": {
            "text/plain": "array([ 0,  1,  2,  3,  4,  5,  6,  7,  8,  9, 10, 11, 12, 13, 14, 15, 16,\n       17, 18, 19])"
          },
          "metadata": {}
        }
      ]
    },
    {
      "metadata": {},
      "cell_type": "markdown",
      "source": "<p style=\"font-family: Arial; font-size:1.75em;color:#2462C0; font-style:bold\">\nIndexing using where():</p>"
    },
    {
      "metadata": {
        "trusted": true
      },
      "cell_type": "code",
      "source": "x_1 = np.array([1,2,3,4,5,6])\ny_1 = np.array([11,22,33,44,55,66])",
      "execution_count": 9,
      "outputs": []
    },
    {
      "metadata": {
        "trusted": true
      },
      "cell_type": "code",
      "source": "for x,y in zip(x_1,y_1):\n    if y%2!=0:\n        print(y)\n    else:\n        print(x)",
      "execution_count": 10,
      "outputs": [
        {
          "output_type": "stream",
          "text": "11\n2\n33\n4\n55\n6\n",
          "name": "stdout"
        }
      ]
    },
    {
      "metadata": {
        "trusted": true
      },
      "cell_type": "code",
      "source": "out = np.where(y_1%2!=0, y_1, x_1) # Condition , True Value, False Value\nprint(out)",
      "execution_count": 13,
      "outputs": [
        {
          "output_type": "stream",
          "text": "[11  2 33  4 55  6]\n",
          "name": "stdout"
        }
      ]
    },
    {
      "metadata": {
        "trusted": true
      },
      "cell_type": "code",
      "source": "mat = np.random.randint(1,10,25)\nprint(mat)\nmat.reshape(5,5)",
      "execution_count": 11,
      "outputs": [
        {
          "output_type": "stream",
          "text": "[7 2 4 9 3 9 1 7 3 3 8 6 9 4 2 2 8 4 9 8 4 3 9 5 9]\n",
          "name": "stdout"
        },
        {
          "output_type": "execute_result",
          "execution_count": 11,
          "data": {
            "text/plain": "array([[7, 2, 4, 9, 3],\n       [9, 1, 7, 3, 3],\n       [8, 6, 9, 4, 2],\n       [2, 8, 4, 9, 8],\n       [4, 3, 9, 5, 9]])"
          },
          "metadata": {}
        }
      ]
    },
    {
      "metadata": {
        "trusted": true
      },
      "cell_type": "code",
      "source": "np.where( mat > 5, True, False)",
      "execution_count": 12,
      "outputs": [
        {
          "output_type": "execute_result",
          "execution_count": 12,
          "data": {
            "text/plain": "array([ True, False, False,  True, False,  True, False,  True, False,\n       False,  True,  True,  True, False, False, False,  True, False,\n        True,  True, False, False,  True, False,  True])"
          },
          "metadata": {}
        }
      ]
    },
    {
      "metadata": {},
      "cell_type": "markdown",
      "source": "<p style=\"font-family: Arial; font-size:1.75em;color:#2462C0; font-style:bold\">\n\"any\" or \"all\" conditionals:</p>"
    },
    {
      "metadata": {
        "trusted": true
      },
      "cell_type": "code",
      "source": "arr_bools = np.array([True, False, True, True, False ])\nb1 = np.array([True, True, True, True, True ])\nb2 =  np.array([False, False, False, False, False])",
      "execution_count": 14,
      "outputs": []
    },
    {
      "metadata": {
        "trusted": true
      },
      "cell_type": "code",
      "source": "print(arr_bools.any()) #Returns True if any value in array is True or else return False\nprint(b1.any()) \nprint(b2.any()) ",
      "execution_count": 15,
      "outputs": [
        {
          "output_type": "stream",
          "text": "True\nTrue\nFalse\n",
          "name": "stdout"
        }
      ]
    },
    {
      "metadata": {
        "scrolled": true,
        "trusted": false
      },
      "cell_type": "code",
      "source": "print(arr_bools.all()) #Returns True if all value are True or else return False\nprint(b1.all())\nprint(b2.all())",
      "execution_count": 17,
      "outputs": [
        {
          "name": "stdout",
          "output_type": "stream",
          "text": "False\nTrue\nFalse\n"
        }
      ]
    },
    {
      "metadata": {},
      "cell_type": "markdown",
      "source": "<p style=\"font-family: Arial; font-size:1.75em;color:#2462C0; font-style:bold\">\nMerging and Spliting data sets:\n</p>"
    },
    {
      "metadata": {
        "trusted": true
      },
      "cell_type": "code",
      "source": "K = np.random.randint(low=2,high=50,size=(2,2))\nprint(K)\n\nprint()\nM = np.random.randint(low=2,high=50,size=(2,2))\nprint(M)",
      "execution_count": 27,
      "outputs": [
        {
          "output_type": "stream",
          "text": "[[28 21]\n [31 21]]\n\n[[22 11]\n [46 19]]\n",
          "name": "stdout"
        }
      ]
    },
    {
      "metadata": {
        "trusted": true
      },
      "cell_type": "code",
      "source": "np.vstack((K,M))",
      "execution_count": 28,
      "outputs": [
        {
          "output_type": "execute_result",
          "execution_count": 28,
          "data": {
            "text/plain": "array([[28, 21],\n       [31, 21],\n       [22, 11],\n       [46, 19]])"
          },
          "metadata": {}
        }
      ]
    },
    {
      "metadata": {
        "trusted": true
      },
      "cell_type": "code",
      "source": "np.hstack((K,M))",
      "execution_count": 29,
      "outputs": [
        {
          "output_type": "execute_result",
          "execution_count": 29,
          "data": {
            "text/plain": "array([[28, 21, 22, 11],\n       [31, 21, 46, 19]])"
          },
          "metadata": {}
        }
      ]
    },
    {
      "metadata": {
        "trusted": true
      },
      "cell_type": "code",
      "source": "np.concatenate([K, M], axis = 0) #vstack",
      "execution_count": 110,
      "outputs": [
        {
          "output_type": "execute_result",
          "execution_count": 110,
          "data": {
            "text/plain": "array([[38, 12],\n       [35, 24],\n       [ 7, 35],\n       [13,  4]])"
          },
          "metadata": {}
        }
      ]
    },
    {
      "metadata": {
        "trusted": true
      },
      "cell_type": "code",
      "source": "np.concatenate([K, M], axis = 1) #hstack",
      "execution_count": 112,
      "outputs": [
        {
          "output_type": "execute_result",
          "execution_count": 112,
          "data": {
            "text/plain": "array([[14, 10,  8, 48],\n       [43, 28, 21, 49]])"
          },
          "metadata": {}
        }
      ]
    },
    {
      "metadata": {
        "trusted": true
      },
      "cell_type": "code",
      "source": "A = np.random.randint(1,21,size=(4,4))\nA",
      "execution_count": 41,
      "outputs": [
        {
          "output_type": "execute_result",
          "execution_count": 41,
          "data": {
            "text/plain": "array([[16, 16, 10, 18],\n       [ 2,  9, 16,  5],\n       [ 1,  8, 13,  9],\n       [12,  9, 18,  9]])"
          },
          "metadata": {}
        }
      ]
    },
    {
      "metadata": {
        "trusted": true
      },
      "cell_type": "code",
      "source": "np.split(A,4,axis=0)",
      "execution_count": 34,
      "outputs": [
        {
          "output_type": "execute_result",
          "execution_count": 34,
          "data": {
            "text/plain": "[array([[ 2, 16, 17, 17]]),\n array([[20,  1,  5,  5]]),\n array([[ 5,  5, 15,  3]]),\n array([[14, 18,  5, 20]])]"
          },
          "metadata": {}
        }
      ]
    },
    {
      "metadata": {
        "trusted": true
      },
      "cell_type": "code",
      "source": "B = np.split(A,2,axis=1)\nB",
      "execution_count": 37,
      "outputs": [
        {
          "output_type": "execute_result",
          "execution_count": 37,
          "data": {
            "text/plain": "[array([[ 2, 16],\n        [20,  1],\n        [ 5,  5],\n        [14, 18]]), array([[17, 17],\n        [ 5,  5],\n        [15,  3],\n        [ 5, 20]])]"
          },
          "metadata": {}
        }
      ]
    },
    {
      "metadata": {
        "trusted": true
      },
      "cell_type": "code",
      "source": "C = np.hsplit(A,4) #Divide columnwise axis=1\nC",
      "execution_count": 38,
      "outputs": [
        {
          "output_type": "execute_result",
          "execution_count": 38,
          "data": {
            "text/plain": "[array([[ 2],\n        [20],\n        [ 5],\n        [14]]), array([[16],\n        [ 1],\n        [ 5],\n        [18]]), array([[17],\n        [ 5],\n        [15],\n        [ 5]]), array([[17],\n        [ 5],\n        [ 3],\n        [20]])]"
          },
          "metadata": {}
        }
      ]
    },
    {
      "metadata": {
        "trusted": true
      },
      "cell_type": "code",
      "source": "D = np.vsplit(A,4) #Divide row wise same as axis=0\nD ",
      "execution_count": 39,
      "outputs": [
        {
          "output_type": "execute_result",
          "execution_count": 39,
          "data": {
            "text/plain": "[array([[ 2, 16, 17, 17]]),\n array([[20,  1,  5,  5]]),\n array([[ 5,  5, 15,  3]]),\n array([[14, 18,  5, 20]])]"
          },
          "metadata": {}
        }
      ]
    }
  ],
  "metadata": {
    "kernelspec": {
      "name": "python3",
      "display_name": "Python 3",
      "language": "python"
    },
    "language_info": {
      "mimetype": "text/x-python",
      "nbconvert_exporter": "python",
      "name": "python",
      "pygments_lexer": "ipython3",
      "version": "3.5.4",
      "file_extension": ".py",
      "codemirror_mode": {
        "version": 3,
        "name": "ipython"
      }
    }
  },
  "nbformat": 4,
  "nbformat_minor": 2
}